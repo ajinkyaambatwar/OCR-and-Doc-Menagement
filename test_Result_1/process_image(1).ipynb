{
 "cells": [
  {
   "cell_type": "code",
   "execution_count": 184,
   "metadata": {},
   "outputs": [],
   "source": [
    "import cv2\n",
    "import matplotlib.pyplot as plt\n",
    "import subprocess as sp\n",
    "import numpy as np\n",
    "import pandas as pd\n",
    "import imutils\n",
    "import glob\n",
    "import os"
   ]
  },
  {
   "cell_type": "code",
   "execution_count": 103,
   "metadata": {},
   "outputs": [],
   "source": [
    "def apply_ocr(img_path):\n",
    "    command = ['tesseract', img_path, 'stdout', '--psm=7']\n",
    "    return sp.run(command, stdout=sp.PIPE)"
   ]
  },
  {
   "cell_type": "code",
   "execution_count": 195,
   "metadata": {},
   "outputs": [],
   "source": [
    "file_list = glob.glob('*.jpg')\n",
    "file_list.extend(glob.glob('*.png'))"
   ]
  },
  {
   "cell_type": "code",
   "execution_count": 238,
   "metadata": {},
   "outputs": [
    {
     "name": "stdout",
     "output_type": "stream",
     "text": [
      "s1-emirates_id_ibrahim.jpg\n",
      "(828, 600)\n",
      "CompletedProcess(args=['tesseract', 's1-emirates_id_ibrahim.jpg_rotated_0.jpg', 'stdout', '--psm=7'], returncode=0, stdout=b'ILAREO799426663784197195480278\\r\\n\\x0c')\n",
      "CompletedProcess(args=['tesseract', 's1-emirates_id_ibrahim.jpg_rotated_1.jpg', 'stdout', '--psm=7'], returncode=0, stdout=b'7109197M1 90831 0PAK<<<<<<<<<x<8\\r\\n\\x0c')\n",
      "CompletedProcess(args=['tesseract', 's1-emirates_id_ibrahim.jpg_rotated_2.jpg', 'stdout', '--psm=7'], returncode=0, stdout=b'TQBAL<<MUHAMMAD<IBRAHIM<<<<<<<\\xc2\\xa2\\r\\n\\x0c')\n",
      "s1-ibrahim_passport.jpg\n",
      "(400, 600)\n",
      "CompletedProcess(args=['tesseract', 's1-ibrahim_passport.jpg_rotated_0.jpg', 'stdout', '--psm=7'], returncode=0, stdout=b'P<PAK IQBAL <<MUHAMMAD<IBRAH IM<<<<< << KKK KK KK KK\\r\\n\\x0c')\n",
      "CompletedProcess(args=['tesseract', 's1-ibrahim_passport.jpg_rotated_1.jpg', 'stdout', '--psm=7'], returncode=0, stdout=b'FE13320022PAK7109197M23020414230112242001<60\\r\\n\\x0c')\n",
      "s2-emirates_id.JPG\n",
      "(774, 600)\n",
      "CompletedProcess(args=['tesseract', 's2-emirates_id.JPG_rotated_0.jpg', 'stdout', '--psm=7'], returncode=0, stdout=b'IDAREO785554828784197247243690\\r\\n\\x0c')\n",
      "CompletedProcess(args=['tesseract', 's2-emirates_id.JPG_rotated_1.jpg', 'stdout', '--psm=7'], returncode=0, stdout=b'72081 93M2605258ARE<<<<<<<<<<S5\\r\\n\\x0c')\n",
      "CompletedProcess(args=['tesseract', 's2-emirates_id.JPG_rotated_2.jpg', 'stdout', '--psm=7'], returncode=0, stdout=b'BATAWQ<<MOHAMED<ALI<MOHAMED<HA\\r\\n\\x0c')\n",
      "s2-emirates_id_other.jpg\n",
      "(757, 600)\n",
      "CompletedProcess(args=['tesseract', 's2-emirates_id_other.jpg_rotated_0.jpg', 'stdout', '--psm=7'], returncode=0, stdout=b'ILAREO753450406784197813749146\\r\\n\\x0c')\n",
      "CompletedProcess(args=['tesseract', 's2-emirates_id_other.jpg_rotated_1.jpg', 'stdout', '--psm=7'], returncode=0, stdout=b'78041 59M1 71 QO76IND<<<<<<<<<<<3\\r\\n\\x0c')\n",
      "CompletedProcess(args=['tesseract', 's2-emirates_id_other.jpg_rotated_2.jpg', 'stdout', '--psm=7'], returncode=0, stdout=b'ABDUL<AZEEZ<<SALIL<IBRAHIM<VEZ\\r\\n\\x0c')\n",
      "s2-passport.jpg\n",
      "(436, 600)\n",
      "CompletedProcess(args=['tesseract', 's2-passport.jpg_rotated_0.jpg', 'stdout', '--psm=7'], returncode=0, stdout=b'PSAREBATAWQ<<MOHAMED<AL1<MOHAMED<HASAN<<<<<<\\r\\n\\x0c')\n",
      "CompletedProcess(args=['tesseract', 's2-passport.jpg_rotated_1.jpg', 'stdout', '--psm=7'], returncode=0, stdout=b'KZ77887057ARE7208193M2103282<<<<<cece<cceces\\r\\n\\x0c')\n",
      "s3-passport.jpg\n",
      "(718, 600)\n",
      "CompletedProcess(args=['tesseract', 's3-passport.jpg_rotated_0.jpg', 'stdout', '--psm=7'], returncode=0, stdout=b'PKJORSALEH<<KHALEDABED<OTHMANK<<<<<<\\xc2\\xa3<<66<6\\r\\n\\x0c')\n",
      "CompletedProcess(args=['tesseract', 's3-passport.jpg_rotated_1.jpg', 'stdout', '--psm=7'], returncode=0, stdout=b'N280922<<8J0R6702177M2005124967 1029069<<<<98\\r\\n\\x0c')\n",
      "s4-shripad_id-1.jpg\n",
      "(760, 600)\n",
      "CompletedProcess(args=['tesseract', 's4-shripad_id-1.jpg_rotated_0.jpg', 'stdout', '--psm=7'], returncode=0, stdout=b'ILARE08345204717841 96772583546\\r\\n\\x0c')\n",
      "CompletedProcess(args=['tesseract', 's4-shripad_id-1.jpg_rotated_1.jpg', 'stdout', '--psm=7'], returncode=0, stdout=b'6702096M2005102 INDK<<<<<<<<<<<4\\r\\n\\x0c')\n",
      "CompletedProcess(args=['tesseract', 's4-shripad_id-1.jpg_rotated_2.jpg', 'stdout', '--psm=7'], returncode=0, stdout=b'KENI<<SHRIPAD<GAJANANK<<<<<<<<<\\r\\n\\x0c')\n",
      "s4-shripad_passport.png\n",
      "(808, 600)\n",
      "CompletedProcess(args=['tesseract', 's4-shripad_passport.png_rotated_0.jpg', 'stdout', '--psm=7'], returncode=0, stdout=b'P<INDKENI<<SHRIPAD<GAJANAN<K<<<<<<< KKK KK KK KKK\\r\\n\\x0c')\n",
      "CompletedProcess(args=['tesseract', 's4-shripad_passport.png_rotated_1.jpg', 'stdout', '--psm=7'], returncode=0, stdout=b'22663754<2 IND6702096M2 4061 78<<<<<<<<<<<<<<<0\\r\\n\\x0c')\n"
     ]
    }
   ],
   "source": [
    "for file_name in file_list:\n",
    "#     file_name = 's1-ibrahim_passport.jpg'\n",
    "    print(file_name)\n",
    "    img = cv2.imread(file_name)\n",
    "    img = imutils.resize(img, width=600)\n",
    "    gray = cv2.cvtColor(img, cv2.COLOR_BGR2GRAY)\n",
    "\n",
    "    print(gray.shape)\n",
    "    w,h = gray.shape\n",
    "    rectKernel = cv2.getStructuringElement(cv2.MORPH_RECT, (12, 6))\n",
    "    sqKernel = cv2.getStructuringElement(cv2.MORPH_RECT, (6, 6))\n",
    "\n",
    "    tophat = cv2.morphologyEx(gray, cv2.MORPH_BLACKHAT, rectKernel)\n",
    "    gradX = cv2.Sobel(tophat, ddepth=cv2.CV_64F, dx=1, dy=0, ksize=-1)\n",
    "    gradX = np.absolute(gradX)\n",
    "    (minVal, maxVal) = (np.min(gradX), np.max(gradX))\n",
    "    gradX = (255 * ((gradX - minVal) / (maxVal - minVal)))\n",
    "    gradX = gradX.astype(\"uint8\")\n",
    "    gradX = cv2.morphologyEx(gradX, cv2.MORPH_CLOSE, rectKernel)\n",
    "    thresh = cv2.threshold(gradX, 0, 255, cv2.THRESH_BINARY | cv2.THRESH_OTSU)[1]\n",
    "    thresh = cv2.morphologyEx(thresh, cv2.MORPH_CLOSE, sqKernel)\n",
    "    cnts = cv2.findContours(thresh.copy(), cv2.RETR_EXTERNAL, cv2.CHAIN_APPROX_SIMPLE)[1]\n",
    "    locs = pd.DataFrame(columns=['x', 'y', 'w', 'h'])\n",
    "\n",
    "    for i,c in enumerate(cnts):\n",
    "        locs.loc[i] = list(cv2.boundingRect(c))\n",
    "    lines = locs[locs.w >= locs.w.max()-30].sort_values(by='y').reset_index(drop=True)\n",
    "    \n",
    "#     plt.figure()\n",
    "#     plt.imshow(thresh, cmap='gray')\n",
    "\n",
    "    for i, row in lines.iterrows():\n",
    "        group = gray[row.y-8:row.y+row.h+8, row.x-10:row.x+row.w+10]\n",
    "        group_not = cv2.bitwise_not(group)\n",
    "        thresh = cv2.threshold(group_not, 0, 255, cv2.THRESH_BINARY | cv2.THRESH_OTSU)[1]\n",
    "        coords = np.column_stack(np.where(thresh>0))\n",
    "        rect = cv2.minAreaRect(coords)\n",
    "        angle = rect[-1]\n",
    "        if angle < -45:\n",
    "            angle = -(90+angle)\n",
    "        else:\n",
    "            angle = -angle\n",
    "        (h, w) = group.shape[:2]\n",
    "        center = (w // 2, h // 2)\n",
    "        M = cv2.getRotationMatrix2D(center, angle, 1.0)\n",
    "        rotated = cv2.warpAffine(group, M, (w, h), flags=cv2.INTER_CUBIC, borderMode=cv2.BORDER_WRAP)\n",
    "        \n",
    "        name = '{}_rotated_{}.jpg'.format(file_name, i)\n",
    "        cv2.imwrite(name, rotated)\n",
    "        print(apply_ocr(name))\n",
    "# os.remove('gray.jpg')\n",
    "# os.remove('rotated.jpg')"
   ]
  },
  {
   "cell_type": "code",
   "execution_count": 179,
   "metadata": {},
   "outputs": [
    {
     "data": {
      "text/plain": [
       "<matplotlib.image.AxesImage at 0x26384d2f390>"
      ]
     },
     "execution_count": 179,
     "metadata": {},
     "output_type": "execute_result"
    }
   ],
   "source": [
    "plt.figure()\n",
    "plt.imshow(thresh, cmap='gray')"
   ]
  },
  {
   "cell_type": "code",
   "execution_count": 219,
   "metadata": {},
   "outputs": [
    {
     "data": {
      "text/plain": [
       "<matplotlib.image.AxesImage at 0x263852432b0>"
      ]
     },
     "execution_count": 219,
     "metadata": {},
     "output_type": "execute_result"
    }
   ],
   "source": [
    "test = cv2.imread('s2-emirates_id.JPG_rotated_0.jpg')\n",
    "angle = -1\n",
    "(h, w) = group.shape[:2]\n",
    "center = (w // 2, h // 2)\n",
    "M = cv2.getRotationMatrix2D(center, angle, 1.0)\n",
    "rotated = cv2.warpAffine(test, M, (w, h), flags=cv2.INTER_CUBIC, borderMode=cv2.BORDER_WRAP)\n",
    "plt.imshow(rotated, cmap='gray')"
   ]
  },
  {
   "cell_type": "code",
   "execution_count": 203,
   "metadata": {},
   "outputs": [
    {
     "data": {
      "text/plain": [
       "['s2-emirates_id.JPG']"
      ]
     },
     "execution_count": 203,
     "metadata": {},
     "output_type": "execute_result"
    }
   ],
   "source": [
    "file_list[2:3]"
   ]
  },
  {
   "cell_type": "code",
   "execution_count": 210,
   "metadata": {},
   "outputs": [
    {
     "data": {
      "text/plain": [
       "array([[ 20, 535],\n",
       "       [  0, 534],\n",
       "       [ 12,   6],\n",
       "       [ 32,   7]], dtype=int64)"
      ]
     },
     "execution_count": 210,
     "metadata": {},
     "output_type": "execute_result"
    }
   ],
   "source": [
    "box"
   ]
  },
  {
   "cell_type": "code",
   "execution_count": null,
   "metadata": {},
   "outputs": [],
   "source": []
  }
 ],
 "metadata": {
  "kernelspec": {
   "display_name": "Python 3",
   "language": "python",
   "name": "python3"
  },
  "language_info": {
   "codemirror_mode": {
    "name": "ipython",
    "version": 3
   },
   "file_extension": ".py",
   "mimetype": "text/x-python",
   "name": "python",
   "nbconvert_exporter": "python",
   "pygments_lexer": "ipython3",
   "version": "3.6.5"
  }
 },
 "nbformat": 4,
 "nbformat_minor": 2
}
